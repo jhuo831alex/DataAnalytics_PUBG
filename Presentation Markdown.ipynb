{
 "cells": [
  {
   "cell_type": "markdown",
   "metadata": {},
   "source": [
    "<img src=\"PUBG-banner-1.png\">"
   ]
  },
  {
   "cell_type": "markdown",
   "metadata": {},
   "source": [
    "# What is PlayerUnknown's BattleGrounds (PUBG) ?"
   ]
  },
  {
   "cell_type": "markdown",
   "metadata": {},
   "source": [
    "### - A battle to the <font color=red>last player standing</font>, with 100 players on an island \n",
    "### - Start with nothing and have to scavenge and collect weapons and medical supplies\n",
    "### - Three modes of play: Solo, Duo and Squad"
   ]
  },
  {
   "cell_type": "markdown",
   "metadata": {},
   "source": [
    "<img src=\"WechatIMG554.jpeg\" width=\"80%\" align='left'/>"
   ]
  },
  {
   "cell_type": "markdown",
   "metadata": {},
   "source": [
    "# Sounds Interesting, BUT... a lot of Cheaters!"
   ]
  },
  {
   "cell_type": "markdown",
   "metadata": {},
   "source": [
    "### - Exploit game bugs to  <font color=red>have way-above-average performance</font> over other players\n",
    "- Collect 100 weapons without moving\n",
    "- Kill 100 people\n",
    "- Revive 100 times\n",
    "- Run 100m/second\n",
    "\n",
    "### - Disrupt game balance: The true skilled cannot win!\n",
    "### - A huge problem since the release of PUBG\n",
    "- PUBG has banned **13 Million** cheaters!\n",
    "- **120 people** has been arrested due to developing cheating plugins\n",
    "- Fines are over **$5.1 Million**"
   ]
  },
  {
   "cell_type": "markdown",
   "metadata": {},
   "source": [
    "# So...Let's hunt cheaters down!"
   ]
  },
  {
   "cell_type": "code",
   "execution_count": 36,
   "metadata": {},
   "outputs": [],
   "source": [
    "import pandas as pd\n",
    "import numpy as np\n",
    "import matplotlib.pyplot as plt\n",
    "import seaborn as sns\n",
    "from sklearn import preprocessing\n",
    "from lightgbm import LGBMRegressor\n",
    "from sklearn.svm import OneClassSVM\n",
    "from sklearn.ensemble import IsolationForest\n",
    "from sklearn.decomposition import PCA\n",
    "from sklearn.cluster import KMeans\n",
    "import plotly\n",
    "import plotly.plotly as py\n",
    "import plotly.graph_objs as go\n",
    "import random\n",
    "import warnings\n",
    "warnings.filterwarnings(\"ignore\")"
   ]
  },
  {
   "cell_type": "code",
   "execution_count": 3,
   "metadata": {},
   "outputs": [],
   "source": [
    "#link of data\n",
    "#https://www.kaggle.com/c/pubg-finish-placement-prediction/data\n",
    "train = pd.read_csv('./data/train_V2.csv')"
   ]
  },
  {
   "cell_type": "code",
   "execution_count": 4,
   "metadata": {
    "scrolled": true
   },
   "outputs": [
    {
     "data": {
      "text/html": [
       "<div>\n",
       "<style scoped>\n",
       "    .dataframe tbody tr th:only-of-type {\n",
       "        vertical-align: middle;\n",
       "    }\n",
       "\n",
       "    .dataframe tbody tr th {\n",
       "        vertical-align: top;\n",
       "    }\n",
       "\n",
       "    .dataframe thead th {\n",
       "        text-align: right;\n",
       "    }\n",
       "</style>\n",
       "<table border=\"1\" class=\"dataframe\">\n",
       "  <thead>\n",
       "    <tr style=\"text-align: right;\">\n",
       "      <th></th>\n",
       "      <th>Id</th>\n",
       "      <th>groupId</th>\n",
       "      <th>matchId</th>\n",
       "      <th>assists</th>\n",
       "      <th>boosts</th>\n",
       "      <th>damageDealt</th>\n",
       "      <th>DBNOs</th>\n",
       "      <th>headshotKills</th>\n",
       "      <th>heals</th>\n",
       "      <th>killPlace</th>\n",
       "      <th>killPoints</th>\n",
       "      <th>kills</th>\n",
       "      <th>killStreaks</th>\n",
       "      <th>longestKill</th>\n",
       "      <th>matchDuration</th>\n",
       "      <th>matchType</th>\n",
       "      <th>maxPlace</th>\n",
       "      <th>numGroups</th>\n",
       "      <th>rankPoints</th>\n",
       "      <th>revives</th>\n",
       "      <th>rideDistance</th>\n",
       "      <th>roadKills</th>\n",
       "      <th>swimDistance</th>\n",
       "      <th>teamKills</th>\n",
       "      <th>vehicleDestroys</th>\n",
       "      <th>walkDistance</th>\n",
       "      <th>weaponsAcquired</th>\n",
       "      <th>winPoints</th>\n",
       "      <th>winPlacePerc</th>\n",
       "    </tr>\n",
       "  </thead>\n",
       "  <tbody>\n",
       "    <tr>\n",
       "      <th>0</th>\n",
       "      <td>7f96b2f878858a</td>\n",
       "      <td>4d4b580de459be</td>\n",
       "      <td>a10357fd1a4a91</td>\n",
       "      <td>0</td>\n",
       "      <td>0</td>\n",
       "      <td>0.00</td>\n",
       "      <td>0</td>\n",
       "      <td>0</td>\n",
       "      <td>0</td>\n",
       "      <td>60</td>\n",
       "      <td>1241</td>\n",
       "      <td>0</td>\n",
       "      <td>0</td>\n",
       "      <td>0.00</td>\n",
       "      <td>1306</td>\n",
       "      <td>squad-fpp</td>\n",
       "      <td>28</td>\n",
       "      <td>26</td>\n",
       "      <td>-1</td>\n",
       "      <td>0</td>\n",
       "      <td>0.0000</td>\n",
       "      <td>0</td>\n",
       "      <td>0.00</td>\n",
       "      <td>0</td>\n",
       "      <td>0</td>\n",
       "      <td>244.80</td>\n",
       "      <td>1</td>\n",
       "      <td>1466</td>\n",
       "      <td>0.4444</td>\n",
       "    </tr>\n",
       "    <tr>\n",
       "      <th>1</th>\n",
       "      <td>eef90569b9d03c</td>\n",
       "      <td>684d5656442f9e</td>\n",
       "      <td>aeb375fc57110c</td>\n",
       "      <td>0</td>\n",
       "      <td>0</td>\n",
       "      <td>91.47</td>\n",
       "      <td>0</td>\n",
       "      <td>0</td>\n",
       "      <td>0</td>\n",
       "      <td>57</td>\n",
       "      <td>0</td>\n",
       "      <td>0</td>\n",
       "      <td>0</td>\n",
       "      <td>0.00</td>\n",
       "      <td>1777</td>\n",
       "      <td>squad-fpp</td>\n",
       "      <td>26</td>\n",
       "      <td>25</td>\n",
       "      <td>1484</td>\n",
       "      <td>0</td>\n",
       "      <td>0.0045</td>\n",
       "      <td>0</td>\n",
       "      <td>11.04</td>\n",
       "      <td>0</td>\n",
       "      <td>0</td>\n",
       "      <td>1434.00</td>\n",
       "      <td>5</td>\n",
       "      <td>0</td>\n",
       "      <td>0.6400</td>\n",
       "    </tr>\n",
       "    <tr>\n",
       "      <th>2</th>\n",
       "      <td>1eaf90ac73de72</td>\n",
       "      <td>6a4a42c3245a74</td>\n",
       "      <td>110163d8bb94ae</td>\n",
       "      <td>1</td>\n",
       "      <td>0</td>\n",
       "      <td>68.00</td>\n",
       "      <td>0</td>\n",
       "      <td>0</td>\n",
       "      <td>0</td>\n",
       "      <td>47</td>\n",
       "      <td>0</td>\n",
       "      <td>0</td>\n",
       "      <td>0</td>\n",
       "      <td>0.00</td>\n",
       "      <td>1318</td>\n",
       "      <td>duo</td>\n",
       "      <td>50</td>\n",
       "      <td>47</td>\n",
       "      <td>1491</td>\n",
       "      <td>0</td>\n",
       "      <td>0.0000</td>\n",
       "      <td>0</td>\n",
       "      <td>0.00</td>\n",
       "      <td>0</td>\n",
       "      <td>0</td>\n",
       "      <td>161.80</td>\n",
       "      <td>2</td>\n",
       "      <td>0</td>\n",
       "      <td>0.7755</td>\n",
       "    </tr>\n",
       "    <tr>\n",
       "      <th>3</th>\n",
       "      <td>4616d365dd2853</td>\n",
       "      <td>a930a9c79cd721</td>\n",
       "      <td>f1f1f4ef412d7e</td>\n",
       "      <td>0</td>\n",
       "      <td>0</td>\n",
       "      <td>32.90</td>\n",
       "      <td>0</td>\n",
       "      <td>0</td>\n",
       "      <td>0</td>\n",
       "      <td>75</td>\n",
       "      <td>0</td>\n",
       "      <td>0</td>\n",
       "      <td>0</td>\n",
       "      <td>0.00</td>\n",
       "      <td>1436</td>\n",
       "      <td>squad-fpp</td>\n",
       "      <td>31</td>\n",
       "      <td>30</td>\n",
       "      <td>1408</td>\n",
       "      <td>0</td>\n",
       "      <td>0.0000</td>\n",
       "      <td>0</td>\n",
       "      <td>0.00</td>\n",
       "      <td>0</td>\n",
       "      <td>0</td>\n",
       "      <td>202.70</td>\n",
       "      <td>3</td>\n",
       "      <td>0</td>\n",
       "      <td>0.1667</td>\n",
       "    </tr>\n",
       "    <tr>\n",
       "      <th>4</th>\n",
       "      <td>315c96c26c9aac</td>\n",
       "      <td>de04010b3458dd</td>\n",
       "      <td>6dc8ff871e21e6</td>\n",
       "      <td>0</td>\n",
       "      <td>0</td>\n",
       "      <td>100.00</td>\n",
       "      <td>0</td>\n",
       "      <td>0</td>\n",
       "      <td>0</td>\n",
       "      <td>45</td>\n",
       "      <td>0</td>\n",
       "      <td>1</td>\n",
       "      <td>1</td>\n",
       "      <td>58.53</td>\n",
       "      <td>1424</td>\n",
       "      <td>solo-fpp</td>\n",
       "      <td>97</td>\n",
       "      <td>95</td>\n",
       "      <td>1560</td>\n",
       "      <td>0</td>\n",
       "      <td>0.0000</td>\n",
       "      <td>0</td>\n",
       "      <td>0.00</td>\n",
       "      <td>0</td>\n",
       "      <td>0</td>\n",
       "      <td>49.75</td>\n",
       "      <td>2</td>\n",
       "      <td>0</td>\n",
       "      <td>0.1875</td>\n",
       "    </tr>\n",
       "  </tbody>\n",
       "</table>\n",
       "</div>"
      ],
      "text/plain": [
       "               Id         groupId         matchId  assists  boosts  \\\n",
       "0  7f96b2f878858a  4d4b580de459be  a10357fd1a4a91        0       0   \n",
       "1  eef90569b9d03c  684d5656442f9e  aeb375fc57110c        0       0   \n",
       "2  1eaf90ac73de72  6a4a42c3245a74  110163d8bb94ae        1       0   \n",
       "3  4616d365dd2853  a930a9c79cd721  f1f1f4ef412d7e        0       0   \n",
       "4  315c96c26c9aac  de04010b3458dd  6dc8ff871e21e6        0       0   \n",
       "\n",
       "   damageDealt  DBNOs  headshotKills  heals  killPlace  killPoints  kills  \\\n",
       "0         0.00      0              0      0         60        1241      0   \n",
       "1        91.47      0              0      0         57           0      0   \n",
       "2        68.00      0              0      0         47           0      0   \n",
       "3        32.90      0              0      0         75           0      0   \n",
       "4       100.00      0              0      0         45           0      1   \n",
       "\n",
       "   killStreaks  longestKill  matchDuration  matchType  maxPlace  numGroups  \\\n",
       "0            0         0.00           1306  squad-fpp        28         26   \n",
       "1            0         0.00           1777  squad-fpp        26         25   \n",
       "2            0         0.00           1318        duo        50         47   \n",
       "3            0         0.00           1436  squad-fpp        31         30   \n",
       "4            1        58.53           1424   solo-fpp        97         95   \n",
       "\n",
       "   rankPoints  revives  rideDistance  roadKills  swimDistance  teamKills  \\\n",
       "0          -1        0        0.0000          0          0.00          0   \n",
       "1        1484        0        0.0045          0         11.04          0   \n",
       "2        1491        0        0.0000          0          0.00          0   \n",
       "3        1408        0        0.0000          0          0.00          0   \n",
       "4        1560        0        0.0000          0          0.00          0   \n",
       "\n",
       "   vehicleDestroys  walkDistance  weaponsAcquired  winPoints  winPlacePerc  \n",
       "0                0        244.80                1       1466        0.4444  \n",
       "1                0       1434.00                5          0        0.6400  \n",
       "2                0        161.80                2          0        0.7755  \n",
       "3                0        202.70                3          0        0.1667  \n",
       "4                0         49.75                2          0        0.1875  "
      ]
     },
     "execution_count": 4,
     "metadata": {},
     "output_type": "execute_result"
    }
   ],
   "source": [
    "pd.options.display.max_columns = None\n",
    "train.head()"
   ]
  },
  {
   "cell_type": "code",
   "execution_count": 5,
   "metadata": {
    "scrolled": false
   },
   "outputs": [
    {
     "name": "stdout",
     "output_type": "stream",
     "text": [
      "<class 'pandas.core.frame.DataFrame'>\n",
      "RangeIndex: 4446966 entries, 0 to 4446965\n",
      "Data columns (total 29 columns):\n",
      "Id                 object\n",
      "groupId            object\n",
      "matchId            object\n",
      "assists            int64\n",
      "boosts             int64\n",
      "damageDealt        float64\n",
      "DBNOs              int64\n",
      "headshotKills      int64\n",
      "heals              int64\n",
      "killPlace          int64\n",
      "killPoints         int64\n",
      "kills              int64\n",
      "killStreaks        int64\n",
      "longestKill        float64\n",
      "matchDuration      int64\n",
      "matchType          object\n",
      "maxPlace           int64\n",
      "numGroups          int64\n",
      "rankPoints         int64\n",
      "revives            int64\n",
      "rideDistance       float64\n",
      "roadKills          int64\n",
      "swimDistance       float64\n",
      "teamKills          int64\n",
      "vehicleDestroys    int64\n",
      "walkDistance       float64\n",
      "weaponsAcquired    int64\n",
      "winPoints          int64\n",
      "winPlacePerc       float64\n",
      "dtypes: float64(6), int64(19), object(4)\n",
      "memory usage: 983.9+ MB\n"
     ]
    }
   ],
   "source": [
    "train.info()"
   ]
  },
  {
   "cell_type": "code",
   "execution_count": 19,
   "metadata": {},
   "outputs": [],
   "source": [
    "#Utility functions\n",
    "def train_test_split(df, test_size=0.3):\n",
    "    import random\n",
    "    match_ids = df['matchId'].unique().tolist()\n",
    "    train_size = int(len(match_ids) * (1 - test_size))\n",
    "    train_match_ids = random.sample(match_ids, train_size)\n",
    "\n",
    "    train = df[df['matchId'].isin(train_match_ids)]\n",
    "    test = df[-df['matchId'].isin(train_match_ids)]\n",
    "    return train, test\n",
    "\n",
    "def outlier_range(var,perc,df):\n",
    "    return np.percentile(df[var],perc)\n",
    "\n",
    "def show_distplot(var,title):\n",
    "    plt.figure(figsize=(10,8))\n",
    "    sns.distplot(df[var],bins=50)\n",
    "    plt.title(title,fontsize=15)\n",
    "    plt.show()"
   ]
  },
  {
   "cell_type": "code",
   "execution_count": 6,
   "metadata": {},
   "outputs": [],
   "source": [
    "#data cleaning and feature engineering part\n",
    "df = train[(train['matchType'].isin(['solo','solo-fpp','duo','duo-fpp','squad','squad-fpp']))]\n",
    "\n",
    "#number of player each match/each team\n",
    "df['numJoined'] = df.groupby('matchId')['matchId'].transform('count')\n",
    "df['teamNum'] = df.groupby('groupId')['groupId'].transform('count')\n",
    "\n",
    "df['totalDistance'] = df['rideDistance'] + df['swimDistance'] + df['walkDistance']\n",
    "df['headshotPerc'] = df['headshotKills']/df['kills']\n",
    "\n",
    "#since each game has different num of players, needs to normalize\n",
    "normalize = (100-df['numJoined'])/100 + 1\n",
    "df['killsNorm'] = df['kills'] * normalize\n",
    "\n",
    "df['killsPerDistance'] = df['killsNorm']/(df['totalDistance'] + 1e31)\n",
    "df['weaponPerDistance'] = df['weaponsAcquired']/(df['totalDistance'] + 1e31)\n",
    "\n",
    "#explore heals and boost\n",
    "#allow you to stay out of zone longer\n",
    "df['healsAndBoosts'] = df['heals'] + df['boosts']\n",
    "df['healsAndBoostsPerWalkDistance'] = df['healsAndBoosts']/(df['walkDistance']+1e31)\n",
    "df['healsAndBoostsPerKill'] = df['healsAndBoosts']/(df['killsNorm']+1e31)\n",
    "\n",
    "#deal with inf and nan\n",
    "df.replace([np.inf, -np.inf], np.nan)\n",
    "df.fillna(0,inplace=True)"
   ]
  },
  {
   "cell_type": "code",
   "execution_count": 15,
   "metadata": {},
   "outputs": [
    {
     "data": {
      "image/png": "[encoded data removed]",
      "text/plain": [
       "<matplotlib.figure.Figure at 0x114a4a470>"
      ]
     },
     "metadata": {},
     "output_type": "display_data"
    }
   ],
   "source": [
    "#feature importance using light GBM\n",
    "target = 'winPlacePerc'\n",
    "cols_to_drop = ['Id', 'groupId', 'matchId', 'matchType', target, 'killPlace','walkDistance','numJoined','teamNum',\n",
    "               'matchDuration','kills','maxPlace','winPoints','boosts','heals','rideDistance','swimDistance',\n",
    "               'rankPoints','revives','teamKills','numGroups','totalDistance']\n",
    "cols_to_fit = [col for col in df.columns if col not in cols_to_drop]\n",
    "train, val = train_test_split(df, 0.3)\n",
    "\n",
    "params = {\n",
    "    'n_estimators': 100,\n",
    "    'learning_rate': 0.3, \n",
    "    'num_leaves': 20,\n",
    "    'objective': 'regression_l2', \n",
    "    'metric': 'mae',\n",
    "    'verbose': -1,\n",
    "}\n",
    "\n",
    "model = LGBMRegressor(**params)\n",
    "model.fit(\n",
    "    train[cols_to_fit], train[target],\n",
    "    eval_set=[(val[cols_to_fit], val[target])],\n",
    "    eval_metric='mae',\n",
    "    verbose=-1,\n",
    ")\n",
    "\n",
    "feature_importance = pd.DataFrame(sorted(zip(model.feature_importances_, cols_to_fit)), columns=['Value','Feature'])\n",
    "\n",
    "plt.figure(figsize=(12, 8))\n",
    "sns.barplot(x=\"Value\", y=\"Feature\", data=feature_importance.sort_values(by=\"Value\", ascending=False))\n",
    "plt.title('Feature Importance with LightGBM')\n",
    "plt.tight_layout()"
   ]
  },
  {
   "cell_type": "markdown",
   "metadata": {},
   "source": [
    "# What are some important features to assess cheaters?"
   ]
  },
  {
   "cell_type": "markdown",
   "metadata": {},
   "source": [
    "### - Normalized Kills (according to number of players joined the match)\n",
    "### - Headshot Percentage\n",
    "### - RoadKills\n",
    "### - Weapons acquired per distance\n",
    "### - Medical supplies per kill"
   ]
  },
  {
   "cell_type": "markdown",
   "metadata": {},
   "source": [
    "# How is everyone doing in PUBG?"
   ]
  },
  {
   "cell_type": "markdown",
   "metadata": {},
   "source": [
    "## <font color=darkcyan>Kills -- Massacre?</font>"
   ]
  },
  {
   "cell_type": "code",
   "execution_count": 37,
   "metadata": {},
   "outputs": [
    {
     "data": {
      "text/html": [
       "<iframe id=\"igraph\" scrolling=\"no\" style=\"border:none;\" seamless=\"seamless\" src=\"https://plot.ly/~jhuo831alex/67.embed\" height=\"525px\" width=\"100%\"></iframe>"
      ],
      "text/plain": [
       "<plotly.tools.PlotlyDisplay object>"
      ]
     },
     "execution_count": 37,
     "metadata": {},
     "output_type": "execute_result"
    }
   ],
   "source": [
    "random.seed(831)\n",
    "\n",
    "plotly.tools.set_credentials_file(username='jhuo831alex', api_key='hIejbAalxmsP4IlYnSaS')\n",
    "data,test = train_test_split(df,0.99)\n",
    "data = data[['killsNorm','winPlacePerc']]\n",
    "data['killsNorm'] = data['killsNorm'].astype('int')\n",
    "N = 30\n",
    "c = ['hsl('+str(h)+',50%'+',50%)' for h in np.linspace(0, 360, N)]\n",
    "kill_num = list(set(data['killsNorm']))\n",
    "graph_data = [{\n",
    "    'y': data['winPlacePerc'].loc[data['killsNorm']==kill_num[i]],\n",
    "    'name':kill_num[i],\n",
    "    'type':'box',\n",
    "    'marker':{'color': c[i]}\n",
    "} for i in range(len(kill_num))]\n",
    "\n",
    "layout = {'xaxis': {'showgrid':True,'zeroline':False, 'tickangle':60,'showticklabels':True,'title':'Number of Kills'},\n",
    "          'yaxis': {'zeroline':False,'gridcolor':'white','title':'Rank Percentile'},\n",
    "          #'paper_bgcolor': 'rgb(233,233,233)',\n",
    "          #'plot_bgcolor': 'rgb(233,233,233)',\n",
    "          'title': 'Kills vs. Final Rank Percentile'\n",
    "          }\n",
    "fig = go.Figure(data=graph_data,layout=layout)\n",
    "py.iplot(fig)"
   ]
  },
  {
   "cell_type": "code",
   "execution_count": 38,
   "metadata": {},
   "outputs": [],
   "source": [
    "non_killing_perc = round(len(df[df['killsNorm']==0])/len(df) * 100,2)\n",
    "two_killing_perc = round(len(df[df['killsNorm']<=2])/len(df) * 100,2)\n",
    "max_kill = int(max(df['killsNorm']))\n",
    "outlier_kill = outlier_range('killsNorm',99,df)\n",
    "\n",
    "# print(non_killing_perc)\n",
    "# print(two_killing_perc)\n",
    "# print(max_kill)\n",
    "# print(outlier_kill)"
   ]
  },
  {
   "cell_type": "markdown",
   "metadata": {},
   "source": [
    "### 56.98% of players did not kill a single enemy!\n",
    "### 78.22% of players killed less than 3 enemies.\n",
    "### But...One player killed <font color=red>34</font> people in a game?! Sounds suspicious ummmm...\n",
    "### So if one player killed more than 99% of other players do, we assume this individual could be possibly cheating."
   ]
  },
  {
   "cell_type": "markdown",
   "metadata": {},
   "source": [
    "## <font color=darkcyan>Incredible Head Shooters?</font>"
   ]
  },
  {
   "cell_type": "code",
   "execution_count": 83,
   "metadata": {},
   "outputs": [
    {
     "data": {
      "image/png": "[encoded data removed]",
      "text/plain": [
       "<matplotlib.figure.Figure at 0x1a0d2e9fd0>"
      ]
     },
     "metadata": {},
     "output_type": "display_data"
    }
   ],
   "source": [
    "show_distplot('headshotPerc','Headshot Percentage Distribution')"
   ]
  },
  {
   "cell_type": "code",
   "execution_count": 85,
   "metadata": {},
   "outputs": [],
   "source": [
    "max_headshot = df['kills'][df['headshotPerc']==1].max()\n",
    "#print(max_headshot)"
   ]
  },
  {
   "cell_type": "markdown",
   "metadata": {},
   "source": [
    "### Has 100% headshot rate shows you are a good player.\n",
    "### Yet...killing 15 people all by headshots? Too good to be true! Could be cheaters."
   ]
  },
  {
   "cell_type": "markdown",
   "metadata": {},
   "source": [
    "##  <font color=darkcyan>Experienced Drivers or Cheaters?</font>"
   ]
  },
  {
   "cell_type": "code",
   "execution_count": 56,
   "metadata": {},
   "outputs": [
    {
     "data": {
      "text/html": [
       "<div>\n",
       "<style scoped>\n",
       "    .dataframe tbody tr th:only-of-type {\n",
       "        vertical-align: middle;\n",
       "    }\n",
       "\n",
       "    .dataframe tbody tr th {\n",
       "        vertical-align: top;\n",
       "    }\n",
       "\n",
       "    .dataframe thead th {\n",
       "        text-align: right;\n",
       "    }\n",
       "</style>\n",
       "<table border=\"1\" class=\"dataframe\">\n",
       "  <thead>\n",
       "    <tr style=\"text-align: right;\">\n",
       "      <th></th>\n",
       "      <th>Id</th>\n",
       "      <th>roadKills</th>\n",
       "      <th>kills</th>\n",
       "      <th>winPlacePerc</th>\n",
       "    </tr>\n",
       "  </thead>\n",
       "  <tbody>\n",
       "    <tr>\n",
       "      <th>2767999</th>\n",
       "      <td>34193085975338</td>\n",
       "      <td>11</td>\n",
       "      <td>11</td>\n",
       "      <td>0.4713</td>\n",
       "    </tr>\n",
       "    <tr>\n",
       "      <th>2733926</th>\n",
       "      <td>c3e444f7d1289f</td>\n",
       "      <td>14</td>\n",
       "      <td>14</td>\n",
       "      <td>0.4286</td>\n",
       "    </tr>\n",
       "    <tr>\n",
       "      <th>2890740</th>\n",
       "      <td>a3438934e3e535</td>\n",
       "      <td>18</td>\n",
       "      <td>20</td>\n",
       "      <td>1.0000</td>\n",
       "    </tr>\n",
       "  </tbody>\n",
       "</table>\n",
       "</div>"
      ],
      "text/plain": [
       "                     Id  roadKills  kills  winPlacePerc\n",
       "2767999  34193085975338         11     11        0.4713\n",
       "2733926  c3e444f7d1289f         14     14        0.4286\n",
       "2890740  a3438934e3e535         18     20        1.0000"
      ]
     },
     "execution_count": 56,
     "metadata": {},
     "output_type": "execute_result"
    }
   ],
   "source": [
    "df[['Id','roadKills','kills','winPlacePerc']].sort_values('roadKills').tail(3)"
   ]
  },
  {
   "cell_type": "code",
   "execution_count": 50,
   "metadata": {},
   "outputs": [],
   "source": [
    "has_roadkill = round(100 - len(df[df['roadKills']==0])/len(df) * 100,2)\n",
    "max_roadkill = int(max(df['roadKills']))"
   ]
  },
  {
   "cell_type": "markdown",
   "metadata": {},
   "source": [
    "### Only 0.26% of players had crashed over enemies using vehicles.\n",
    "### One player ran over <font color=red>18</font> enemies with his/her car!! This is insane!!\n",
    "### Once again, if one player kills absurdly many enemies by car, we assume this individual could be a cheater. "
   ]
  },
  {
   "cell_type": "markdown",
   "metadata": {},
   "source": [
    "##  <font color=darkcyan>Weapon Magnets?</font>"
   ]
  },
  {
   "cell_type": "code",
   "execution_count": 39,
   "metadata": {},
   "outputs": [
    {
     "data": {
      "text/html": [
       "<iframe id=\"igraph\" scrolling=\"no\" style=\"border:none;\" seamless=\"seamless\" src=\"https://plot.ly/~jhuo831alex/69.embed\" height=\"525px\" width=\"100%\"></iframe>"
      ],
      "text/plain": [
       "<plotly.tools.PlotlyDisplay object>"
      ]
     },
     "execution_count": 39,
     "metadata": {},
     "output_type": "execute_result"
    }
   ],
   "source": [
    "hover_text,bubble_size = [], []\n",
    "data,test = train_test_split(df,0.9999)\n",
    "data['is_team'] = np.where(data['matchType'].isin(['solo','solo-fpp']),'solo',\n",
    "                         np.where(data['matchType'].isin(['duo','duo-fpp']),'duo','squad'))\n",
    "for index, row in data.iterrows():\n",
    "    hover_text.append(('Match Type: {is_team}<br>'+\n",
    "                      'Rank Percentile: {winPlacePerc}<br>'+\n",
    "                      'Total Distance Traveled: {totalDistance}<br>'+\n",
    "                      'Weapons Acquired: {weaponsAcquired}<br>').format(is_team=row['is_team'],\n",
    "                                            winPlacePerc=row['winPlacePerc'],\n",
    "                                            totalDistance=row['totalDistance'],\n",
    "                                            weaponsAcquired=row['weaponsAcquired']))\n",
    "    bubble_size.append(row['weaponsAcquired'] * 500)\n",
    "data['text'] = hover_text\n",
    "data['size'] = bubble_size\n",
    "sizeref = data['weaponsAcquired'].max()\n",
    "\n",
    "match_types = list(set(data['is_team']))\n",
    "graph_data = list()\n",
    "\n",
    "for match_type in match_types:\n",
    "    trace = go.Scatter(\n",
    "                x=data['totalDistance'][data['is_team'] == match_type],\n",
    "                y=data['winPlacePerc'][data['is_team'] == match_type ],\n",
    "                mode='markers',\n",
    "                name=match_type,\n",
    "                text=data['text'][data['is_team'] == match_type],\n",
    "                marker=dict(\n",
    "                    symbol='circle',\n",
    "                    sizemode='area',\n",
    "                    sizeref=sizeref,\n",
    "                    size=data['size'][data['is_team'] == match_type],\n",
    "                    line=dict(\n",
    "                        width=2\n",
    "                    ),\n",
    "                )\n",
    "            )\n",
    "    graph_data.append(trace)\n",
    "\n",
    "layout = go.Layout(\n",
    "    title='Rank Percentile based on Weapons acquired per Distance',\n",
    "    xaxis=dict(\n",
    "        title='Total Distance Traveled',\n",
    "        gridcolor='rgb(255, 255, 255)',\n",
    "        range=[0, max(data['totalDistance'])],\n",
    "        zerolinewidth=1,\n",
    "        ticklen=5,\n",
    "        gridwidth=2,\n",
    "    ),\n",
    "    yaxis=dict(\n",
    "        title='Rank Percentile',\n",
    "        gridcolor='rgb(255, 255, 255)',\n",
    "        range=[0, 1.05],\n",
    "        zerolinewidth=1,\n",
    "        ticklen=5,\n",
    "        gridwidth=2,\n",
    "    ),\n",
    ")\n",
    "\n",
    "fig = go.Figure(data=graph_data, layout=layout)\n",
    "py.iplot(fig)"
   ]
  },
  {
   "cell_type": "code",
   "execution_count": 26,
   "metadata": {},
   "outputs": [],
   "source": [
    "outlier_weapon = round(len(df[(df['weaponsAcquired'] > 10) & (df['totalDistance'] == 0)])/len(df) * 100,2)\n",
    "max_weapon = df[df['totalDistance']==0]['weaponsAcquired'].max()\n",
    "\n",
    "# print(outlier_weapon)\n",
    "# print(max_weapon)"
   ]
  },
  {
   "cell_type": "markdown",
   "metadata": {},
   "source": [
    "### Typically, you wander around to gather weapons.\n",
    "### Yet, 0.01% of players collect more than 10 weapons without moving. Interesting...\n",
    "### One player acquired <font color=red>52</font> weapons without moving a single meter!\n",
    "### We assume this kind of \"Weapon Magnets\" to be cheaters."
   ]
  },
  {
   "cell_type": "markdown",
   "metadata": {},
   "source": [
    "## <font color=darkcyan>Deadpools?</font>"
   ]
  },
  {
   "cell_type": "code",
   "execution_count": 40,
   "metadata": {
    "scrolled": false
   },
   "outputs": [
    {
     "data": {
      "text/html": [
       "<iframe id=\"igraph\" scrolling=\"no\" style=\"border:none;\" seamless=\"seamless\" src=\"https://plot.ly/~jhuo831alex/71.embed\" height=\"525px\" width=\"100%\"></iframe>"
      ],
      "text/plain": [
       "<plotly.tools.PlotlyDisplay object>"
      ]
     },
     "execution_count": 40,
     "metadata": {},
     "output_type": "execute_result"
    }
   ],
   "source": [
    "hover_text = []\n",
    "data,test = train_test_split(df,0.99)\n",
    "for index, row in data.iterrows():\n",
    "    hover_text.append(('Number of Kills: {killsNorm}<br>'+\n",
    "                      'Heals and Boosts: {healsAndBoosts}<br>'+\n",
    "                      'Rank Percentile: {winPlacePerc}<br>').format(killsNorm=row['killsNorm'],\n",
    "                                            healsAndBoosts=row['healsAndBoosts'],\n",
    "                                            winPlacePerc=row['winPlacePerc']))\n",
    "data['text'] = hover_text\n",
    "trace1 = go.Scatter3d(\n",
    "    x=data['killsNorm'],\n",
    "    y=data['healsAndBoosts'],\n",
    "    z=data['winPlacePerc'],\n",
    "    mode='markers',\n",
    "    text = data['text'],\n",
    "    marker=dict(\n",
    "        size=5,\n",
    "        color = 'pink',\n",
    "        line = dict(color='lightblue', width = 0.5),\n",
    "        colorscale='Jet', \n",
    "        opacity=0.8\n",
    "    )\n",
    ")\n",
    "graph_data = [trace1]\n",
    "layout = go.Layout(\n",
    "    title='Number of Kills v. Medical Supplies v. Rank Percentile',\n",
    "    autosize=False,\n",
    "    scene=go.Scene(\n",
    "        xaxis=go.XAxis(title='Number of Kills'),\n",
    "        yaxis=go.YAxis(title='Heals and Boosts'),\n",
    "        zaxis=go.ZAxis(title='Rank Percentile')),\n",
    "     margin=dict(\n",
    "        l=65,\n",
    "        r=50,\n",
    "        b=65,\n",
    "        t=90\n",
    "    )\n",
    ")\n",
    "\n",
    "fig = go.Figure(data=graph_data, layout=layout)\n",
    "py.iplot(fig)"
   ]
  },
  {
   "cell_type": "markdown",
   "metadata": {},
   "source": [
    "### Not using medical supplies is normal, \n",
    "### But...Killing over <font color=red>10</font> people without healing, are they deadpools or cheaters??"
   ]
  },
  {
   "cell_type": "code",
   "execution_count": 28,
   "metadata": {},
   "outputs": [
    {
     "data": {
      "text/html": [
       "<div>\n",
       "<style scoped>\n",
       "    .dataframe tbody tr th:only-of-type {\n",
       "        vertical-align: middle;\n",
       "    }\n",
       "\n",
       "    .dataframe tbody tr th {\n",
       "        vertical-align: top;\n",
       "    }\n",
       "\n",
       "    .dataframe thead th {\n",
       "        text-align: right;\n",
       "    }\n",
       "</style>\n",
       "<table border=\"1\" class=\"dataframe\">\n",
       "  <thead>\n",
       "    <tr style=\"text-align: right;\">\n",
       "      <th></th>\n",
       "      <th>healsAndBoosts</th>\n",
       "      <th>kills</th>\n",
       "      <th>winPlacePerc</th>\n",
       "    </tr>\n",
       "  </thead>\n",
       "  <tbody>\n",
       "    <tr>\n",
       "      <th>652889</th>\n",
       "      <td>0</td>\n",
       "      <td>16</td>\n",
       "      <td>1.0</td>\n",
       "    </tr>\n",
       "    <tr>\n",
       "      <th>2033134</th>\n",
       "      <td>0</td>\n",
       "      <td>17</td>\n",
       "      <td>1.0</td>\n",
       "    </tr>\n",
       "    <tr>\n",
       "      <th>3517965</th>\n",
       "      <td>0</td>\n",
       "      <td>17</td>\n",
       "      <td>1.0</td>\n",
       "    </tr>\n",
       "  </tbody>\n",
       "</table>\n",
       "</div>"
      ],
      "text/plain": [
       "         healsAndBoosts  kills  winPlacePerc\n",
       "652889                0     16           1.0\n",
       "2033134               0     17           1.0\n",
       "3517965               0     17           1.0"
      ]
     },
     "execution_count": 28,
     "metadata": {},
     "output_type": "execute_result"
    }
   ],
   "source": [
    "df[['healsAndBoosts','kills','winPlacePerc']][df['healsAndBoosts']==0].sort_values('kills').tail(3)"
   ]
  },
  {
   "cell_type": "code",
   "execution_count": 41,
   "metadata": {},
   "outputs": [],
   "source": [
    "#subset the data from 4 million to 0.1 million to save computation time\n",
    "#use the above assumptions to find out the cheaters in this 0.1 million data\n",
    "data_sub,try_ = train_test_split(df,0.977)\n",
    "\n",
    "id_set = set()\n",
    "id_set.update(data_sub['Id'].loc[data_sub['killsNorm'] >= np.percentile(data_sub['killsNorm'],99)])\n",
    "id_set.update(data_sub[data_sub['roadKills']>=int(outlier_range('roadKills',99.9,data_sub))]['Id'])\n",
    "id_set.update(data_sub[(data_sub['weaponsAcquired'] > outlier_range('weaponsAcquired',99,data_sub)) & (data_sub['totalDistance'] == 0)]['Id'])\n",
    "id_set.update(data_sub[(data_sub['headshotPerc']==1)&(data_sub['killsNorm']>outlier_range('killsNorm',99,data_sub))]['Id'])\n",
    "id_set.update(data_sub[(data_sub['healsAndBoosts']==0)&(data_sub['killsNorm'] > outlier_range('killsNorm',99,data_sub))]['Id'])"
   ]
  },
  {
   "cell_type": "code",
   "execution_count": 43,
   "metadata": {},
   "outputs": [],
   "source": [
    "outlier_len = len(set(id_set))\n",
    "#print(outlier_len)"
   ]
  },
  {
   "cell_type": "markdown",
   "metadata": {},
   "source": [
    "### According to our assumptions above, we found <font color=red>1329</font> potential cheaters out of 0.1 million players.\n",
    "### Is there any faster way to catch cheaters? Yes! "
   ]
  },
  {
   "cell_type": "markdown",
   "metadata": {},
   "source": [
    "# Machine Learning: Anomaly Detection"
   ]
  },
  {
   "cell_type": "markdown",
   "metadata": {},
   "source": [
    "## <font color=darkcyan>One-Class Support Vector Machine (OCSVM)</font>"
   ]
  },
  {
   "cell_type": "code",
   "execution_count": 60,
   "metadata": {},
   "outputs": [],
   "source": [
    "#data preparation\n",
    "data = data_sub[['roadKills','killsNorm','weaponPerDistance','healsAndBoostsPerKill','headshotPerc']]\n",
    "min_max_scaler = preprocessing.StandardScaler()\n",
    "np_scaled = min_max_scaler.fit_transform(data)\n",
    "data = pd.DataFrame(np_scaled)"
   ]
  },
  {
   "cell_type": "markdown",
   "metadata": {},
   "source": [
    "## PCA to speed-up ML algorithms"
   ]
  },
  {
   "cell_type": "code",
   "execution_count": 56,
   "metadata": {},
   "outputs": [
    {
     "name": "stdout",
     "output_type": "stream",
     "text": [
      "[0.3855168  0.2003042  0.18627083 0.12983489 0.09807328]\n"
     ]
    }
   ],
   "source": [
    "# PCA to speed-up machine learning algorithms\n",
    "pca = PCA(n_components=5)\n",
    "pca_data = pca.fit_transform(data)\n",
    "print(pca.explained_variance_ratio_) #every component explains a part of data"
   ]
  },
  {
   "cell_type": "markdown",
   "metadata": {},
   "source": [
    "## Decide the proportion of cheaters in games"
   ]
  },
  {
   "cell_type": "code",
   "execution_count": 62,
   "metadata": {},
   "outputs": [
    {
     "name": "stdout",
     "output_type": "stream",
     "text": [
      "Assumption: There are 1.0% of cheaters in the games:\n",
      "Count of cheaters: 0 - Normal players, 1 - Cheaters\n",
      "0    95104\n",
      "1     6776\n",
      "Name: anomaly_svm, dtype: int64\n",
      "29.65% of the 1329 player we identified as cheaters using above assumptions and data visualization methods \n",
      "are also labeled as cheaters using the One-Class SVM model.\n",
      "\n",
      "Assumption: There are 5.0% of cheaters in the games:\n",
      "Count of cheaters: 0 - Normal players, 1 - Cheaters\n",
      "0    91019\n",
      "1    10861\n",
      "Name: anomaly_svm, dtype: int64\n",
      "77.58% of the 1329 player we identified as cheaters using above assumptions and data visualization methods \n",
      "are also labeled as cheaters using the One-Class SVM model.\n",
      "\n",
      "Assumption: There are 10.0% of cheaters in the games:\n",
      "Count of cheaters: 0 - Normal players, 1 - Cheaters\n",
      "0    88087\n",
      "1    13793\n",
      "Name: anomaly_svm, dtype: int64\n",
      "98.87% of the 1329 player we identified as cheaters using above assumptions and data visualization methods \n",
      "are also labeled as cheaters using the One-Class SVM model.\n",
      "\n"
     ]
    }
   ],
   "source": [
    "outlier_lst = [0.01,0.05,0.1]\n",
    "\n",
    "#find out proportion of cheaters in the games\n",
    "for outliers_fraction in outlier_lst:\n",
    "    model =  OneClassSVM(nu=0.95 * outliers_fraction,verbose=False) \n",
    "    model.fit(data)\n",
    "    data_sub['anomaly_svm'] = model.predict(data)\n",
    "    data_sub['anomaly_svm'] = data_sub['anomaly_svm'].map({1: 0, -1: 1})\n",
    "\n",
    "    cheater_id = data_sub['Id'].loc[data_sub['anomaly_svm']==1]\n",
    "    precision = round(len(set(cheater_id) & id_set) / len(id_set) * 100,2)\n",
    "    \n",
    "    print(f'Assumption: There are {str(outliers_fraction*100)}% of cheaters in the games:')\n",
    "    print('Count of cheaters: 0 - Normal players, 1 - Cheaters')\n",
    "    print(data_sub['anomaly_svm'].value_counts())\n",
    "    print(f\"\"\"{str(precision)}% of the {str(outlier_len)} player we identified as cheaters using above assumptions and data visualization methods \n",
    "are also labeled as cheaters using the One-Class SVM model.\\n\"\"\")"
   ]
  },
  {
   "cell_type": "markdown",
   "metadata": {},
   "source": [
    "## Cross Validating the model:"
   ]
  },
  {
   "cell_type": "markdown",
   "metadata": {},
   "source": [
    "### When cheater proportion is 10%,  <font color=red>98.87%</font> of the 1329 players we identified as cheaters using above \n",
    "### assumptions and data visualization methods are also labeled as cheaters using the One-Class SVM model.\n",
    "### <font color=orange>10% is a good estimation of proportion of cheaters in PUBG, and the model is actually identifying cheaters.</font>"
   ]
  },
  {
   "cell_type": "markdown",
   "metadata": {},
   "source": [
    "## Try another method to cross validate... <font color=darkcyan>Isolation Forest</font>"
   ]
  },
  {
   "cell_type": "code",
   "execution_count": 63,
   "metadata": {},
   "outputs": [
    {
     "name": "stdout",
     "output_type": "stream",
     "text": [
      "0    91688\n",
      "1    10192\n",
      "Name: anomaly_if, dtype: int64\n"
     ]
    }
   ],
   "source": [
    "model =  IsolationForest(contamination = outliers_fraction)\n",
    "model.fit(data)\n",
    "# add the data to the main  \n",
    "data_sub['anomaly_if'] = model.predict(data)\n",
    "data_sub['anomaly_if'] = data_sub['anomaly_if'].map( {1: 0, -1: 1} )\n",
    "print(data_sub['anomaly_if'].value_counts())"
   ]
  },
  {
   "cell_type": "code",
   "execution_count": 75,
   "metadata": {},
   "outputs": [],
   "source": [
    "cheater_id2 = data_sub['Id'].loc[data_sub['anomaly_if']==1]\n",
    "precision2 = round(len(set(cheater_id2) & id_set) / len(id_set) * 100,2)\n",
    "#print(precision2)"
   ]
  },
  {
   "cell_type": "markdown",
   "metadata": {},
   "source": [
    "###  <font color=red>91.27%</font> of the 1329 players we identified as cheaters using above assumptions and data visualization methods \n",
    "### are also labeled as cheaters, showing that Isolation Forest is also a good model to identify cheaters."
   ]
  },
  {
   "cell_type": "markdown",
   "metadata": {},
   "source": [
    "## Find the players identified by both models as cheaters"
   ]
  },
  {
   "cell_type": "code",
   "execution_count": 79,
   "metadata": {},
   "outputs": [],
   "source": [
    "overlap_len = len(set(data_sub['Id'].loc[data_sub['anomaly_if']==1]) & set(data_sub['Id'].loc[data_sub['anomaly_svm']==1]))\n",
    "min_len = min(len(data_sub['Id'].loc[data_sub['anomaly_if']==1]),len(data_sub['Id'].loc[data_sub['anomaly_svm']==1]))\n",
    "overlap_coeff = round(overlap_len/min_len *100,2)\n",
    "# print(overlap_len)\n",
    "# print(overlap_coeff)"
   ]
  },
  {
   "cell_type": "markdown",
   "metadata": {},
   "source": [
    "### 6563 players are labeled as cheaters by both SVM and Isolation Forest model. The overlap coefficient is 64.39%.\n",
    "### After cross validation, we are now confident that these 6563 players are more likely to be cheaters."
   ]
  },
  {
   "cell_type": "markdown",
   "metadata": {},
   "source": [
    "# What we did to catch cheaters..."
   ]
  },
  {
   "attachments": {},
   "cell_type": "markdown",
   "metadata": {},
   "source": [
    "<img src=\"Conclusion.png\" align='left'/>"
   ]
  },
  {
   "cell_type": "markdown",
   "metadata": {},
   "source": [
    "<img src=\"cheater.jpg\" width=\"60%\" align='left'/>"
   ]
  },
  {
   "cell_type": "markdown",
   "metadata": {},
   "source": [
    "# Proudly Presented by  <font color=gold>Team ChickenDinner</font>\n",
    "# Thank you for listening! "
   ]
  }
 ],
 "metadata": {
  "kernelspec": {
   "display_name": "Python 3",
   "language": "python",
   "name": "python3"
  },
  "language_info": {
   "codemirror_mode": {
    "name": "ipython",
    "version": 3
   },
   "file_extension": ".py",
   "mimetype": "text/x-python",
   "name": "python",
   "nbconvert_exporter": "python",
   "pygments_lexer": "ipython3",
   "version": "3.6.4"
  }
 },
 "nbformat": 4,
 "nbformat_minor": 2
}
